{
 "cells": [
  {
   "cell_type": "code",
   "execution_count": 1,
   "metadata": {},
   "outputs": [],
   "source": [
    "import os\n",
    "from dotenv import load_dotenv\n",
    "load_dotenv()\n",
    "\n",
    "api_key = os.getenv('GPT_API_KEY')\n",
    "if api_key is None:\n",
    "  raise\n",
    "\n",
    "headers = {\n",
    "  \"Content-Type\": \"application/json\",\n",
    "  \"X-Merck-APIKey\": api_key\n",
    "}"
   ]
  },
  {
   "cell_type": "code",
   "execution_count": null,
   "metadata": {},
   "outputs": [],
   "source": [
    "import requests\n",
    "import json\n",
    "\n",
    "GPT_URL = \"https://iapi-test.merck.com/gpt/v2/gpt-35-turbo-0613/chat/completions?api-version=2023-08-01-preview\"\n",
    "rag_call_convo = [\n",
    "  {\"role\": \"system\", \"content\": \"\"\"You are a documentation generation assistant\"\"\"},\n",
    "]\n",
    "rag_call_question = \"What do you like to know today?\"\n",
    "url = \"\"\n",
    "\n",
    "while url == \"\":\n",
    "  user_msg = input(rag_call_question)\n",
    "  rag_call_convo.append({\"role\": \"user\", \"content\": user_msg})\n",
    "  payload = {\n",
    "    \"messages\":rag_call_convo,\n",
    "    \"functions\": [{\n",
    "      \"name\": \"retrieve_doc_with_url\",\n",
    "      \"description\": \"Retrieve document with a web url\",\n",
    "      \"parameters\": {\n",
    "        \"type\": \"object\",\n",
    "        \"properties\": {\n",
    "          \"url\": {\n",
    "            \"type\": \"string\",\n",
    "            \"description\": \"A web url\"\n",
    "          }\n",
    "        },\n",
    "        \"required\": [\"url\"]\n",
    "      }\n",
    "    }]\n",
    "  }\n",
    "  res = requests.post(GPT_URL, json=payload, headers=headers)\n",
    "  output = res.json()\n",
    "  if \"status\" in output and output[\"status\"] != 200:\n",
    "    print(output)\n",
    "    raise\n",
    "  choice = output['choices'][0]\n",
    "  reason = choice['finish_reason']\n",
    "  if reason == \"function_call\":\n",
    "    arg_text = choice['message']['function_call']['arguments']\n",
    "    args = json.loads(arg_text)\n",
    "    url = args['url']\n",
    "    print(url)\n",
    "  else:\n",
    "    rag_call_question = choice['message']['content']\n",
    "    print(rag_call_question)\n",
    "    rag_call_convo.append({\"role\": \"assistant\", \"content\": rag_call_question})\n"
   ]
  }
 ],
 "metadata": {
  "kernelspec": {
   "display_name": "Python 3",
   "language": "python",
   "name": "python3"
  },
  "language_info": {
   "codemirror_mode": {
    "name": "ipython",
    "version": 3
   },
   "file_extension": ".py",
   "mimetype": "text/x-python",
   "name": "python",
   "nbconvert_exporter": "python",
   "pygments_lexer": "ipython3",
   "version": "3.11.6"
  },
  "orig_nbformat": 4
 },
 "nbformat": 4,
 "nbformat_minor": 2
}
